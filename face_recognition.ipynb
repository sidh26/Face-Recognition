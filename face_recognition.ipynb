{
 "cells": [
  {
   "cell_type": "code",
   "execution_count": 1,
   "metadata": {},
   "outputs": [],
   "source": [
    "import face_recognition\n",
    "import cv2\n",
    "import pandas as pd\n",
    "import glob\n",
    "import numpy as np\n",
    "import matplotlib.image as mpimg\n",
    "import matplotlib.pyplot as plt\n",
    "from skimage import color\n",
    "from time import time"
   ]
  },
  {
   "cell_type": "code",
   "execution_count": 2,
   "metadata": {},
   "outputs": [],
   "source": [
    "# Read images, calculate face encodings and save encodings to csv\n",
    "pictures = glob.glob(\"D:/dataset2/train/*\")\n",
    "known_face_names = []\n",
    "for i in range(0, len(pictures)):\n",
    "    e = pictures[i].split('\\\\')[1].split('.')[0]\n",
    "    known_face_names = np.append(known_face_names,e)\n",
    "known_face_encodings = []\n",
    "for i in range(0, len(pictures)):\n",
    "    a = face_recognition.load_image_file(pictures[i])\n",
    "    known_face_encodings = known_face_encodings + [face_recognition.face_encodings(a)[0]]\n",
    "    \n",
    "pd.DataFrame(known_face_names).to_csv(\"D:/New folder/names.csv\", index=False)\n",
    "pd.DataFrame(known_face_encodings).to_csv(\"D:/New folder/encodings.csv\", index=False)"
   ]
  },
  {
   "cell_type": "code",
   "execution_count": 6,
   "metadata": {
    "scrolled": true
   },
   "outputs": [
    {
     "name": "stdout",
     "output_type": "stream",
     "text": [
      "231.59244465827942\n"
     ]
    }
   ],
   "source": [
    "# reading single image for benchmarking\n",
    "start_full = time()\n",
    "known_face_encodings = pd.read_csv(\"D:/New folder/encodings.csv\")\n",
    "known_face_names = pd.read_csv(\"D:/New folder/names.csv\")\n",
    "# known_face_encodings = pd.DataFrame(known_face_encodings)\n",
    "# known_face_names = pd.DataFrame(known_face_names)\n",
    "face_locations = []\n",
    "face_encodings = []\n",
    "face_names = []\n",
    "each = []\n",
    "rgb_small_frame = face_recognition.load_image_file(\"D:/dataset2/Barack.jpg\")\n",
    "# pic = np.array(mpimg.imread(\"D:/dataset2/Zuck.jpg\"))\n",
    "# print(rgb_small_frame)\n",
    "# plt.imshow(pic)\n",
    "# print(pic.shape)\n",
    "# rgb_small_frame = cv2.resize(pic, (0, 0), fx=0.25, fy=0.25)\n",
    "# plt.imshow(rgb_small_frame)\n",
    "for i in range(100):\n",
    "    start_each = time()\n",
    "    face_locations = face_recognition.face_locations(rgb_small_frame) # model = 'cnn'\n",
    "    face_encodings = face_recognition.face_encodings(rgb_small_frame, face_locations) #  increase num_jitters\n",
    "#     print(face_locations)\n",
    "    for face_encoding in face_encodings:\n",
    "        matches = face_recognition.compare_faces(known_face_encodings, face_encoding)\n",
    "        name = \"Unknown\"\n",
    "        if True in matches:\n",
    "            dist = face_recognition.api.face_distance(known_face_encodings, face_encoding)\n",
    "#             print(dist)\n",
    "            closest_match_index = np.argmin(dist)\n",
    "            name = list(known_face_names.iloc[closest_match_index])[0].split('_')[0]\n",
    "        face_names.append(name)\n",
    "#     cv2.imshow('Picture', pic)\n",
    "#     cv2.waitKey(0)\n",
    "    each.append(time()-start_each)\n",
    "cv2.destroyAllWindows()\n",
    "print(time()-start_full)"
   ]
  },
  {
   "cell_type": "code",
   "execution_count": 7,
   "metadata": {},
   "outputs": [
    {
     "name": "stdout",
     "output_type": "stream",
     "text": [
      "100\n",
      "2.314477889537811\n"
     ]
    }
   ],
   "source": [
    "print(face_names.count('Barack'))\n",
    "print(sum(each)/len(each))"
   ]
  },
  {
   "cell_type": "code",
   "execution_count": null,
   "outputs": [],
   "source": [
    "# Reading video stream\n",
    "video_capture = cv2.VideoCapture(0)\n",
    "known_face_encodings = pd.read_csv(\"D:/New folder/encodings.csv\")\n",
    "known_face_names = pd.read_csv(\"D:/New folder/names.csv\")\n",
    "# known_face_encodings = pd.DataFrame(known_face_encodings)\n",
    "# known_face_names = pd.DataFrame(known_face_names)\n",
    "face_locations = []\n",
    "face_encodings = []\n",
    "face_names = []\n",
    "process_this_frame = True\n",
    "while True:\n",
    "    ret, frame = video_capture.read()\n",
    "    small_frame = cv2.resize(frame, (0, 0), fx=0.25, fy=0.25)\n",
    "    rgb_small_frame = small_frame[:, :, ::-1]\n",
    "    if process_this_frame:\n",
    "        face_locations = face_recognition.face_locations(rgb_small_frame) # model = 'cnn'\n",
    "        face_encodings = face_recognition.face_encodings(rgb_small_frame, face_locations) #  increase num_iters\n",
    "        for face_encoding in face_encodings:\n",
    "            matches = face_recognition.compare_faces(known_face_encodings, face_encoding)\n",
    "            name = \"Unknown\"\n",
    "            if True in matches:\n",
    "                dist = face_recognition.api.face_distance(known_face_encodings, face_encoding)\n",
    "                closest_match_index = np.argmin(dist)\n",
    "                name = list(known_face_names.iloc[closest_match_index])[0]\n",
    "                face_names.append(name)\n",
    "    process_this_frame = not process_this_frame\n",
    "    for (top, right, bottom, left), name in zip(face_locations, face_names):\n",
    "        top *= 4\n",
    "        right *= 4\n",
    "        bottom *= 4\n",
    "        left *= 4\n",
    "        cv2.rectangle(frame, (left, top), (right, bottom), (0, 0, 255), 2)\n",
    "        cv2.rectangle(frame, (left, bottom - 35), (right, bottom), (0, 0, 255), cv2.FILLED)\n",
    "        cv2.putText(frame, name, (left + 6, bottom - 6), cv2.FONT_HERSHEY_DUPLEX, 1.0, (255, 255, 255), 1)\n",
    "    cv2.imshow('Video', frame)\n",
    "    if cv2.waitKey(1) & 0xFF == ord('q'):\n",
    "        break\n",
    "video_capture.release()\n",
    "cv2.destroyAllWindows()\n"
   ],
   "metadata": {
    "collapsed": false,
    "pycharm": {
     "name": "#%%\n"
    }
   }
  }
 ],
 "metadata": {
  "kernelspec": {
   "display_name": "Python 3",
   "language": "python",
   "name": "python3"
  },
  "language_info": {
   "codemirror_mode": {
    "name": "ipython",
    "version": 3
   },
   "file_extension": ".py",
   "mimetype": "text/x-python",
   "name": "python",
   "nbconvert_exporter": "python",
   "pygments_lexer": "ipython3",
   "version": "3.6.8"
  },
  "pycharm": {
   "stem_cell": {
    "cell_type": "raw",
    "source": [],
    "metadata": {
     "collapsed": false
    }
   }
  }
 },
 "nbformat": 4,
 "nbformat_minor": 2
}