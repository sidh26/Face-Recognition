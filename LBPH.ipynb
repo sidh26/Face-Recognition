{
 "cells": [
  {
   "cell_type": "code",
   "execution_count": 1,
   "metadata": {},
   "outputs": [],
   "source": [
    "import cv2\n",
    "import numpy as np\n",
    "import glob\n",
    "from time import time"
   ]
  },
  {
   "cell_type": "code",
   "execution_count": 2,
   "metadata": {},
   "outputs": [],
   "source": [
    "images = glob.glob('D:/dataset/*.jpg')"
   ]
  },
  {
   "cell_type": "code",
   "execution_count": 3,
   "metadata": {},
   "outputs": [],
   "source": [
    "recognizer = cv2.face.LBPHFaceRecognizer_create()\n",
    "detector = cv2.CascadeClassifier(\"C:/Users/sidhs/Anaconda3/Lib/site-packages/cv2/data/haarcascade_frontalface_default.xml\")"
   ]
  },
  {
   "cell_type": "code",
   "execution_count": 4,
   "metadata": {},
   "outputs": [],
   "source": [
    "def getImagesAndLabels():\n",
    "    faceSamples = []\n",
    "    Ids = []\n",
    "    for i in range(len(images)):\n",
    "        imageNp = cv2.imread(images[i], 0)\n",
    "        name = int(images[i].split('\\\\')[1].split('.')[0])\n",
    "        faces = detector.detectMultiScale(imageNp)\n",
    "        for (x, y, w, h) in faces:\n",
    "            faceSamples.append(imageNp[y:y+h, x:x+w])\n",
    "            Ids.append(name)\n",
    "    return faceSamples, Ids"
   ]
  },
  {
   "cell_type": "code",
   "execution_count": 5,
   "metadata": {},
   "outputs": [],
   "source": [
    "faces, Ids = getImagesAndLabels()\n",
    "recognizer.train(faces, np.array(Ids))\n",
    "recognizer.save('C:/Users/sidhs/Desktop/trainner2.yml')"
   ]
  },
  {
   "cell_type": "code",
   "execution_count": 6,
   "metadata": {},
   "outputs": [],
   "source": [
    "recognizer = cv2.face.LBPHFaceRecognizer_create()\n",
    "recognizer.read('C:/Users/sidhs/Desktop/trainner2.yml')\n",
    "faceCascade= cv2.CascadeClassifier(\"C:/Users/sidhs/Anaconda3/Lib/site-packages/cv2/data/haarcascade_frontalface_default.xml\")"
   ]
  },
  {
   "cell_type": "code",
   "execution_count": 15,
   "metadata": {},
   "outputs": [],
   "source": [
    "cam = cv2.VideoCapture(0)\n",
    "names = ['Sidh']\n",
    "times = []\n",
    "c=0\n",
    "while True:\n",
    "    ret, im = cam.read()\n",
    "    res = im.shape[:-1]\n",
    "    gray = cv2.cvtColor(im, cv2.COLOR_BGR2GRAY)\n",
    "    start = time()\n",
    "    faces = faceCascade.detectMultiScale(gray, 1.2, 5)\n",
    "    for (x, y, w, h) in faces:\n",
    "        \n",
    "        cv2.rectangle(im, (x, y), (x+w, y+h), (225, 0, 0), 2)\n",
    "        Id, conf = recognizer.predict(gray[y:y+h, x:x+w])\n",
    "        if conf < 50:\n",
    "            text = names[Id]\n",
    "            times.append(time()-start)\n",
    "            c+=1\n",
    "        else:\n",
    "            text = \"Unknown\"\n",
    "        cv2.putText(im, str(text), (x, y+h), cv2.FONT_HERSHEY_SIMPLEX, 1, (255, 255, 255), 2)\n",
    "    cv2.imshow('frame', im)\n",
    "    if cv2.waitKey(10) & 0xFF==ord('q'):\n",
    "        break\n",
    "    if c>=200:\n",
    "        break\n",
    "cam.release()\n",
    "cv2.destroyAllWindows()"
   ]
  },
  {
   "cell_type": "code",
   "execution_count": 16,
   "metadata": {},
   "outputs": [
    {
     "data": {
      "text/plain": [
       "0.026991337537765503"
      ]
     },
     "execution_count": 16,
     "metadata": {},
     "output_type": "execute_result"
    }
   ],
   "source": [
    "sum(times)/len(times)"
   ]
  },
  {
   "cell_type": "code",
   "execution_count": 9,
   "metadata": {},
   "outputs": [
    {
     "data": {
      "text/plain": [
       "(480, 640)"
      ]
     },
     "execution_count": 9,
     "metadata": {},
     "output_type": "execute_result"
    }
   ],
   "source": [
    "res"
   ]
  }
 ],
 "metadata": {
  "kernelspec": {
   "display_name": "Python 3",
   "language": "python",
   "name": "python3"
  },
  "language_info": {
   "codemirror_mode": {
    "name": "ipython",
    "version": 3
   },
   "file_extension": ".py",
   "mimetype": "text/x-python",
   "name": "python",
   "nbconvert_exporter": "python",
   "pygments_lexer": "ipython3",
   "version": "3.6.8"
  }
 },
 "nbformat": 4,
 "nbformat_minor": 2
}
